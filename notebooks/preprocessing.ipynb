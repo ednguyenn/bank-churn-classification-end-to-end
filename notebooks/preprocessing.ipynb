{
 "cells": [
  {
   "cell_type": "code",
   "execution_count": 74,
   "metadata": {},
   "outputs": [],
   "source": [
    "import pandas as pd \n",
    "import numpy as np \n",
    "import matplotlib as plt\n",
    "%matplotlib inline"
   ]
  },
  {
   "cell_type": "code",
   "execution_count": 123,
   "metadata": {},
   "outputs": [
    {
     "name": "stdout",
     "output_type": "stream",
     "text": [
      "The distribution of categorical values in the Geography is : \n",
      "Geography\n",
      "France     94215\n",
      "Spain      36213\n",
      "Germany    34606\n",
      "Name: count, dtype: Int64\n",
      "The distribution of categorical values in the Gender is : \n",
      "Gender\n",
      "Male      93150\n",
      "Female    71884\n",
      "Name: count, dtype: Int64\n"
     ]
    }
   ],
   "source": [
    "\n",
    "df = pd.read_csv('../data/raw/train.csv')\n",
    "df.drop(['id', 'CustomerId', 'Surname'], axis=1, inplace=True)\n",
    "string_col = df.select_dtypes(include=\"object\").columns\n",
    "df[string_col]=df[string_col].astype(\"string\")\n",
    "df[string_col].head()\n",
    "for col in string_col:\n",
    "    print(f\"The distribution of categorical values in the {col} is : \")\n",
    "    print(df[col].value_counts())\n",
    "\n",
    "\n",
    "#working on tree based model\n",
    "from sklearn.preprocessing import LabelEncoder\n",
    "df_tree = df.apply(LabelEncoder().fit_transform)\n",
    "\n",
    "## Creaeting one hot encoded features for working with non tree based algorithms \n",
    "df_nontree=pd.get_dummies(df,columns=string_col,drop_first=False)\n",
    "\n",
    "target = 'Exited'\n",
    "y = df_nontree[target]\n",
    "df_nontree = df_nontree.drop([target], axis=1)\n",
    "df_nontree=pd.concat([df_nontree,y],axis=1)\n",
    "\n",
    "from sklearn import model_selection\n",
    "from sklearn.linear_model import LogisticRegression\n",
    "from sklearn.metrics import confusion_matrix,classification_report,accuracy_score,roc_auc_score\n",
    "from sklearn.preprocessing import RobustScaler,MinMaxScaler,StandardScaler\n",
    "acc_log=[]\n",
    "feature_col_nontree=df_nontree.columns.to_list()\n",
    "feature_col_nontree.remove(target)"
   ]
  },
  {
   "cell_type": "code",
   "execution_count": 105,
   "metadata": {},
   "outputs": [
    {
     "name": "stdout",
     "output_type": "stream",
     "text": [
      "The fold is : 0 : \n",
      "              precision    recall  f1-score   support\n",
      "\n",
      "           0       0.85      0.96      0.90     26023\n",
      "           1       0.71      0.39      0.50      6984\n",
      "\n",
      "    accuracy                           0.84     33007\n",
      "   macro avg       0.78      0.67      0.70     33007\n",
      "weighted avg       0.82      0.84      0.82     33007\n",
      "\n",
      "The accuracy for Fold 1 : 0.6721461930165837\n",
      "The fold is : 1 : \n",
      "              precision    recall  f1-score   support\n",
      "\n",
      "           0       0.85      0.96      0.90     26023\n",
      "           1       0.70      0.38      0.49      6984\n",
      "\n",
      "    accuracy                           0.83     33007\n",
      "   macro avg       0.78      0.67      0.70     33007\n",
      "weighted avg       0.82      0.83      0.81     33007\n",
      "\n",
      "The accuracy for Fold 2 : 0.667190541836746\n",
      "The fold is : 2 : \n",
      "              precision    recall  f1-score   support\n",
      "\n",
      "           0       0.85      0.96      0.90     26023\n",
      "           1       0.71      0.39      0.51      6984\n",
      "\n",
      "    accuracy                           0.84     33007\n",
      "   macro avg       0.78      0.68      0.70     33007\n",
      "weighted avg       0.82      0.84      0.82     33007\n",
      "\n",
      "The accuracy for Fold 3 : 0.6751549036122287\n",
      "The fold is : 3 : \n",
      "              precision    recall  f1-score   support\n",
      "\n",
      "           0       0.85      0.95      0.90     26022\n",
      "           1       0.69      0.38      0.49      6985\n",
      "\n",
      "    accuracy                           0.83     33007\n",
      "   macro avg       0.77      0.66      0.69     33007\n",
      "weighted avg       0.82      0.83      0.81     33007\n",
      "\n",
      "The accuracy for Fold 4 : 0.6649778473332982\n",
      "The fold is : 4 : \n",
      "              precision    recall  f1-score   support\n",
      "\n",
      "           0       0.85      0.95      0.90     26022\n",
      "           1       0.68      0.38      0.49      6984\n",
      "\n",
      "    accuracy                           0.83     33006\n",
      "   macro avg       0.77      0.67      0.69     33006\n",
      "weighted avg       0.82      0.83      0.81     33006\n",
      "\n",
      "The accuracy for Fold 5 : 0.6650832193008241\n"
     ]
    }
   ],
   "source": [
    "kf=model_selection.StratifiedKFold(n_splits=5)\n",
    "for fold , (trn_,val_) in enumerate(kf.split(X=df_nontree,y=y)):\n",
    "    \n",
    "    X_train=df_nontree.loc[trn_,feature_col_nontree]\n",
    "    y_train=df_nontree.loc[trn_,target]\n",
    "    \n",
    "    X_valid=df_nontree.loc[val_,feature_col_nontree]\n",
    "    y_valid=df_nontree.loc[val_,target]\n",
    "    \n",
    "    #print(pd.DataFrame(X_valid).head())\n",
    "    ro_scaler=MinMaxScaler()\n",
    "    X_train=ro_scaler.fit_transform(X_train)\n",
    "    X_valid=ro_scaler.transform(X_valid)\n",
    "    \n",
    "    \n",
    "    clf=LogisticRegression()\n",
    "    clf.fit(X_train,y_train)\n",
    "    y_pred=clf.predict(X_valid)\n",
    "    print(f\"The fold is : {fold} : \")\n",
    "    print(classification_report(y_valid,y_pred))\n",
    "    acc=roc_auc_score(y_valid,y_pred)\n",
    "    acc_log.append(acc)\n",
    "    print(f\"The accuracy for Fold {fold+1} : {acc}\")\n",
    "    pass"
   ]
  },
  {
   "cell_type": "code",
   "execution_count": 106,
   "metadata": {},
   "outputs": [
    {
     "name": "stdout",
     "output_type": "stream",
     "text": [
      "The fold is : 0 : \n",
      "              precision    recall  f1-score   support\n",
      "\n",
      "           0       0.87      0.96      0.91     26023\n",
      "           1       0.75      0.46      0.57      6984\n",
      "\n",
      "    accuracy                           0.85     33007\n",
      "   macro avg       0.81      0.71      0.74     33007\n",
      "weighted avg       0.84      0.85      0.84     33007\n",
      "\n",
      "The accuracy for 1 : 0.7073961254602557\n",
      "The fold is : 1 : \n",
      "              precision    recall  f1-score   support\n",
      "\n",
      "           0       0.87      0.96      0.91     26023\n",
      "           1       0.74      0.44      0.56      6984\n",
      "\n",
      "    accuracy                           0.85     33007\n",
      "   macro avg       0.81      0.70      0.73     33007\n",
      "weighted avg       0.84      0.85      0.84     33007\n",
      "\n",
      "The accuracy for 2 : 0.7019935449867922\n",
      "The fold is : 2 : \n",
      "              precision    recall  f1-score   support\n",
      "\n",
      "           0       0.87      0.96      0.91     26023\n",
      "           1       0.74      0.45      0.56      6984\n",
      "\n",
      "    accuracy                           0.85     33007\n",
      "   macro avg       0.80      0.70      0.74     33007\n",
      "weighted avg       0.84      0.85      0.84     33007\n",
      "\n",
      "The accuracy for 3 : 0.7046053662811895\n",
      "The fold is : 3 : \n",
      "              precision    recall  f1-score   support\n",
      "\n",
      "           0       0.87      0.96      0.91     26022\n",
      "           1       0.73      0.45      0.56      6985\n",
      "\n",
      "    accuracy                           0.85     33007\n",
      "   macro avg       0.80      0.70      0.73     33007\n",
      "weighted avg       0.84      0.85      0.83     33007\n",
      "\n",
      "The accuracy for 4 : 0.7020298198204294\n",
      "The fold is : 4 : \n",
      "              precision    recall  f1-score   support\n",
      "\n",
      "           0       0.87      0.96      0.91     26022\n",
      "           1       0.74      0.45      0.56      6984\n",
      "\n",
      "    accuracy                           0.85     33006\n",
      "   macro avg       0.80      0.70      0.73     33006\n",
      "weighted avg       0.84      0.85      0.84     33006\n",
      "\n",
      "The accuracy for 5 : 0.7036093534125631\n"
     ]
    }
   ],
   "source": [
    "from sklearn.neighbors import KNeighborsClassifier\n",
    "acc_KNN=[]\n",
    "kf=model_selection.StratifiedKFold(n_splits=5)\n",
    "for fold , (trn_,val_) in enumerate(kf.split(X=df_nontree,y=y)):\n",
    "    \n",
    "    X_train=df_nontree.loc[trn_,feature_col_nontree]\n",
    "    y_train=df_nontree.loc[trn_,target]\n",
    "    \n",
    "    X_valid=df_nontree.loc[val_,feature_col_nontree]\n",
    "    y_valid=df_nontree.loc[val_,target]\n",
    "    \n",
    "    ro_scaler=MinMaxScaler()\n",
    "    X_train=ro_scaler.fit_transform(X_train)\n",
    "    X_valid=ro_scaler.transform(X_valid)\n",
    "    \n",
    "    clf=KNeighborsClassifier(n_neighbors=32)\n",
    "    clf.fit(X_train,y_train)\n",
    "    y_pred=clf.predict(X_valid)\n",
    "    print(f\"The fold is : {fold} : \")\n",
    "    print(classification_report(y_valid,y_pred))\n",
    "    acc=roc_auc_score(y_valid,y_pred)\n",
    "    acc_KNN.append(acc)\n",
    "    print(f\"The accuracy for {fold+1} : {acc}\")"
   ]
  },
  {
   "cell_type": "code",
   "execution_count": 124,
   "metadata": {},
   "outputs": [],
   "source": [
    "feature_col_tree=df_tree.columns.to_list()\n",
    "feature_col_tree.remove(target)"
   ]
  },
  {
   "cell_type": "code",
   "execution_count": 108,
   "metadata": {},
   "outputs": [
    {
     "name": "stdout",
     "output_type": "stream",
     "text": [
      "The fold is : 0 : \n",
      "              precision    recall  f1-score   support\n",
      "\n",
      "           0       0.88      0.87      0.87     26023\n",
      "           1       0.53      0.54      0.54      6984\n",
      "\n",
      "    accuracy                           0.80     33007\n",
      "   macro avg       0.70      0.71      0.71     33007\n",
      "weighted avg       0.80      0.80      0.80     33007\n",
      "\n",
      "The accuracy for 1 : 0.7066472202601285\n",
      "The fold is : 1 : \n",
      "              precision    recall  f1-score   support\n",
      "\n",
      "           0       0.88      0.87      0.87     26023\n",
      "           1       0.53      0.54      0.53      6984\n",
      "\n",
      "    accuracy                           0.80     33007\n",
      "   macro avg       0.70      0.71      0.70     33007\n",
      "weighted avg       0.80      0.80      0.80     33007\n",
      "\n",
      "The accuracy for 2 : 0.7057178585610164\n",
      "The fold is : 2 : \n",
      "              precision    recall  f1-score   support\n",
      "\n",
      "           0       0.87      0.87      0.87     26023\n",
      "           1       0.53      0.53      0.53      6984\n",
      "\n",
      "    accuracy                           0.80     33007\n",
      "   macro avg       0.70      0.70      0.70     33007\n",
      "weighted avg       0.80      0.80      0.80     33007\n",
      "\n",
      "The accuracy for 3 : 0.703217644414389\n",
      "The fold is : 3 : \n",
      "              precision    recall  f1-score   support\n",
      "\n",
      "           0       0.88      0.87      0.87     26022\n",
      "           1       0.53      0.54      0.53      6985\n",
      "\n",
      "    accuracy                           0.80     33007\n",
      "   macro avg       0.70      0.70      0.70     33007\n",
      "weighted avg       0.80      0.80      0.80     33007\n",
      "\n",
      "The accuracy for 4 : 0.7043937768201973\n",
      "The fold is : 4 : \n",
      "              precision    recall  f1-score   support\n",
      "\n",
      "           0       0.88      0.87      0.87     26022\n",
      "           1       0.52      0.54      0.53      6984\n",
      "\n",
      "    accuracy                           0.80     33006\n",
      "   macro avg       0.70      0.70      0.70     33006\n",
      "weighted avg       0.80      0.80      0.80     33006\n",
      "\n",
      "The accuracy for 5 : 0.7049188784483443\n"
     ]
    }
   ],
   "source": [
    "\n",
    "from sklearn.tree import DecisionTreeClassifier\n",
    "acc_Dtree=[]\n",
    "kf=model_selection.StratifiedKFold(n_splits=5)\n",
    "for fold , (trn_,val_) in enumerate(kf.split(X=df_tree,y=y)):\n",
    "    \n",
    "    X_train=df_tree.loc[trn_,feature_col_tree]\n",
    "    y_train=df_tree.loc[trn_,target]\n",
    "    \n",
    "    X_valid=df_tree.loc[val_,feature_col_tree]\n",
    "    y_valid=df_tree.loc[val_,target]\n",
    "    \n",
    "    clf=DecisionTreeClassifier(criterion=\"entropy\")\n",
    "    clf.fit(X_train,y_train)\n",
    "    y_pred=clf.predict(X_valid)\n",
    "    print(f\"The fold is : {fold} : \")\n",
    "    print(classification_report(y_valid,y_pred))\n",
    "    acc=roc_auc_score(y_valid,y_pred)\n",
    "    acc_Dtree.append(acc)\n",
    "    print(f\"The accuracy for {fold+1} : {acc}\")\n"
   ]
  },
  {
   "cell_type": "code",
   "execution_count": 135,
   "metadata": {},
   "outputs": [
    {
     "name": "stdout",
     "output_type": "stream",
     "text": [
      "The fold is : 0 : \n",
      "              precision    recall  f1-score   support\n",
      "\n",
      "           0       0.89      0.95      0.92     26023\n",
      "           1       0.75      0.55      0.64      6984\n",
      "\n",
      "    accuracy                           0.87     33007\n",
      "   macro avg       0.82      0.75      0.78     33007\n",
      "weighted avg       0.86      0.87      0.86     33007\n",
      "\n",
      "The accuracy for 1 : 0.7507639647920936\n",
      "The fold is : 1 : \n",
      "              precision    recall  f1-score   support\n",
      "\n",
      "           0       0.89      0.95      0.92     26023\n",
      "           1       0.74      0.54      0.63      6984\n",
      "\n",
      "    accuracy                           0.86     33007\n",
      "   macro avg       0.81      0.75      0.77     33007\n",
      "weighted avg       0.86      0.86      0.86     33007\n",
      "\n",
      "The accuracy for 2 : 0.7465502997634614\n",
      "The fold is : 2 : \n",
      "              precision    recall  f1-score   support\n",
      "\n",
      "           0       0.89      0.95      0.92     26023\n",
      "           1       0.75      0.56      0.64      6984\n",
      "\n",
      "    accuracy                           0.87     33007\n",
      "   macro avg       0.82      0.75      0.78     33007\n",
      "weighted avg       0.86      0.87      0.86     33007\n",
      "\n",
      "The accuracy for 3 : 0.7537479483850725\n",
      "The fold is : 3 : \n",
      "              precision    recall  f1-score   support\n",
      "\n",
      "           0       0.89      0.95      0.92     26022\n",
      "           1       0.74      0.56      0.63      6985\n",
      "\n",
      "    accuracy                           0.86     33007\n",
      "   macro avg       0.81      0.75      0.77     33007\n",
      "weighted avg       0.86      0.86      0.86     33007\n",
      "\n",
      "The accuracy for 4 : 0.7513579831437163\n",
      "The fold is : 4 : \n",
      "              precision    recall  f1-score   support\n",
      "\n",
      "           0       0.89      0.95      0.92     26022\n",
      "           1       0.75      0.55      0.64      6984\n",
      "\n",
      "    accuracy                           0.87     33006\n",
      "   macro avg       0.82      0.75      0.78     33006\n",
      "weighted avg       0.86      0.87      0.86     33006\n",
      "\n",
      "The accuracy for 5 : 0.7520287651131041\n"
     ]
    }
   ],
   "source": [
    "from xgboost import XGBClassifier\n",
    "acc_XGB=[]\n",
    "kf=model_selection.StratifiedKFold(n_splits=5)\n",
    "for fold , (trn_,val_) in enumerate(kf.split(X=df_tree,y=y)):\n",
    "    \n",
    "    X_train=df_tree.loc[trn_,feature_col_tree]\n",
    "    y_train=df_tree.loc[trn_,target]\n",
    "    \n",
    "    X_valid=df_tree.loc[val_,feature_col_tree]\n",
    "    y_valid=df_tree.loc[val_,target]\n",
    "    \n",
    "    best_param = {'gamma': 3.4449286575210953, 'max_depth': 8}\n",
    "    clf=XGBClassifier(**best_param)\n",
    "    clf.fit(X_train,y_train)\n",
    "    y_pred=clf.predict(X_valid)\n",
    "    print(f\"The fold is : {fold} : \")\n",
    "    print(classification_report(y_valid,y_pred))\n",
    "    acc=roc_auc_score(y_valid,y_pred)\n",
    "    acc_XGB.append(acc)\n",
    "    print(f\"The accuracy for {fold+1} : {acc}\")"
   ]
  },
  {
   "cell_type": "code",
   "execution_count": 132,
   "metadata": {},
   "outputs": [],
   "source": [
    "from hyperopt import STATUS_OK, Trials, fmin, hp, tpe\n",
    "space={'max_depth': hp.quniform(\"max_depth\", 3, 18, 1),\n",
    "        'gamma': hp.uniform ('gamma', 1,9),\n",
    "        'n_estimators': 180,\n",
    "           }\n",
    "def objective(space):\n",
    "    clf=XGBClassifier(\n",
    "                    n_estimators =space['n_estimators'], max_depth = int(space['max_depth']), gamma = space['gamma']\n",
    "                 )\n",
    "    \n",
    "    evaluation = [( X_train, y_train), ( X_valid, y_valid)]\n",
    "    \n",
    "    clf.fit(X_train, y_train,\n",
    "            eval_set=evaluation, eval_metric=\"auc\",\n",
    "            early_stopping_rounds=10,verbose=False)\n",
    "    \n",
    "\n",
    "    pred = clf.predict(X_valid)\n",
    "    accuracy = accuracy_score(y_valid, pred>0.5)\n",
    "    print (\"SCORE:\", accuracy)\n",
    "    return {'loss': -accuracy, 'status': STATUS_OK }"
   ]
  },
  {
   "cell_type": "code",
   "execution_count": 133,
   "metadata": {},
   "outputs": [
    {
     "name": "stdout",
     "output_type": "stream",
     "text": [
      "  0%|          | 0/20 [00:00<?, ?trial/s, best loss=?]"
     ]
    },
    {
     "name": "stderr",
     "output_type": "stream",
     "text": [
      "c:\\Users\\pvdng\\AppData\\Local\\pypoetry\\Cache\\virtualenvs\\bank-churn-gvoUwqJd-py3.11\\Lib\\site-packages\\xgboost\\sklearn.py:889: UserWarning: `eval_metric` in `fit` method is deprecated for better compatibility with scikit-learn, use `eval_metric` in constructor or`set_params` instead.\n",
      "  warnings.warn(\n",
      "\n",
      "c:\\Users\\pvdng\\AppData\\Local\\pypoetry\\Cache\\virtualenvs\\bank-churn-gvoUwqJd-py3.11\\Lib\\site-packages\\xgboost\\sklearn.py:889: UserWarning: `early_stopping_rounds` in `fit` method is deprecated for better compatibility with scikit-learn, use `early_stopping_rounds` in constructor or`set_params` instead.\n",
      "  warnings.warn(\n",
      "\n"
     ]
    },
    {
     "name": "stdout",
     "output_type": "stream",
     "text": [
      "SCORE:                                                \n",
      "0.8652669211658486                                    \n",
      "  5%|▌         | 1/20 [00:00<00:13,  1.45trial/s, best loss: -0.8652669211658486]"
     ]
    },
    {
     "name": "stderr",
     "output_type": "stream",
     "text": [
      "c:\\Users\\pvdng\\AppData\\Local\\pypoetry\\Cache\\virtualenvs\\bank-churn-gvoUwqJd-py3.11\\Lib\\site-packages\\xgboost\\sklearn.py:889: UserWarning: `eval_metric` in `fit` method is deprecated for better compatibility with scikit-learn, use `eval_metric` in constructor or`set_params` instead.\n",
      "  warnings.warn(\n",
      "\n",
      "c:\\Users\\pvdng\\AppData\\Local\\pypoetry\\Cache\\virtualenvs\\bank-churn-gvoUwqJd-py3.11\\Lib\\site-packages\\xgboost\\sklearn.py:889: UserWarning: `early_stopping_rounds` in `fit` method is deprecated for better compatibility with scikit-learn, use `early_stopping_rounds` in constructor or`set_params` instead.\n",
      "  warnings.warn(\n",
      "\n"
     ]
    },
    {
     "name": "stdout",
     "output_type": "stream",
     "text": [
      "SCORE:                                                                           \n",
      "0.8649033509058959                                                               \n",
      " 10%|█         | 2/20 [00:01<00:13,  1.29trial/s, best loss: -0.8652669211658486]"
     ]
    },
    {
     "name": "stderr",
     "output_type": "stream",
     "text": [
      "c:\\Users\\pvdng\\AppData\\Local\\pypoetry\\Cache\\virtualenvs\\bank-churn-gvoUwqJd-py3.11\\Lib\\site-packages\\xgboost\\sklearn.py:889: UserWarning: `eval_metric` in `fit` method is deprecated for better compatibility with scikit-learn, use `eval_metric` in constructor or`set_params` instead.\n",
      "  warnings.warn(\n",
      "\n",
      "c:\\Users\\pvdng\\AppData\\Local\\pypoetry\\Cache\\virtualenvs\\bank-churn-gvoUwqJd-py3.11\\Lib\\site-packages\\xgboost\\sklearn.py:889: UserWarning: `early_stopping_rounds` in `fit` method is deprecated for better compatibility with scikit-learn, use `early_stopping_rounds` in constructor or`set_params` instead.\n",
      "  warnings.warn(\n",
      "\n"
     ]
    },
    {
     "name": "stdout",
     "output_type": "stream",
     "text": [
      "SCORE:                                                                           \n",
      "0.8642671029509786                                                               \n",
      " 15%|█▌        | 3/20 [00:02<00:12,  1.32trial/s, best loss: -0.8652669211658486]"
     ]
    },
    {
     "name": "stderr",
     "output_type": "stream",
     "text": [
      "c:\\Users\\pvdng\\AppData\\Local\\pypoetry\\Cache\\virtualenvs\\bank-churn-gvoUwqJd-py3.11\\Lib\\site-packages\\xgboost\\sklearn.py:889: UserWarning: `eval_metric` in `fit` method is deprecated for better compatibility with scikit-learn, use `eval_metric` in constructor or`set_params` instead.\n",
      "  warnings.warn(\n",
      "\n",
      "c:\\Users\\pvdng\\AppData\\Local\\pypoetry\\Cache\\virtualenvs\\bank-churn-gvoUwqJd-py3.11\\Lib\\site-packages\\xgboost\\sklearn.py:889: UserWarning: `early_stopping_rounds` in `fit` method is deprecated for better compatibility with scikit-learn, use `early_stopping_rounds` in constructor or`set_params` instead.\n",
      "  warnings.warn(\n",
      "\n"
     ]
    },
    {
     "name": "stdout",
     "output_type": "stream",
     "text": [
      "SCORE:                                                                           \n",
      "0.8631460946494577                                                               \n",
      " 20%|██        | 4/20 [00:03<00:12,  1.32trial/s, best loss: -0.8652669211658486]"
     ]
    },
    {
     "name": "stderr",
     "output_type": "stream",
     "text": [
      "c:\\Users\\pvdng\\AppData\\Local\\pypoetry\\Cache\\virtualenvs\\bank-churn-gvoUwqJd-py3.11\\Lib\\site-packages\\xgboost\\sklearn.py:889: UserWarning: `eval_metric` in `fit` method is deprecated for better compatibility with scikit-learn, use `eval_metric` in constructor or`set_params` instead.\n",
      "  warnings.warn(\n",
      "\n",
      "c:\\Users\\pvdng\\AppData\\Local\\pypoetry\\Cache\\virtualenvs\\bank-churn-gvoUwqJd-py3.11\\Lib\\site-packages\\xgboost\\sklearn.py:889: UserWarning: `early_stopping_rounds` in `fit` method is deprecated for better compatibility with scikit-learn, use `early_stopping_rounds` in constructor or`set_params` instead.\n",
      "  warnings.warn(\n",
      "\n"
     ]
    },
    {
     "name": "stdout",
     "output_type": "stream",
     "text": [
      "SCORE:                                                                           \n",
      "0.8619341937829486                                                               \n",
      " 25%|██▌       | 5/20 [00:03<00:10,  1.37trial/s, best loss: -0.8652669211658486]"
     ]
    },
    {
     "name": "stderr",
     "output_type": "stream",
     "text": [
      "c:\\Users\\pvdng\\AppData\\Local\\pypoetry\\Cache\\virtualenvs\\bank-churn-gvoUwqJd-py3.11\\Lib\\site-packages\\xgboost\\sklearn.py:889: UserWarning: `eval_metric` in `fit` method is deprecated for better compatibility with scikit-learn, use `eval_metric` in constructor or`set_params` instead.\n",
      "  warnings.warn(\n",
      "\n",
      "c:\\Users\\pvdng\\AppData\\Local\\pypoetry\\Cache\\virtualenvs\\bank-churn-gvoUwqJd-py3.11\\Lib\\site-packages\\xgboost\\sklearn.py:889: UserWarning: `early_stopping_rounds` in `fit` method is deprecated for better compatibility with scikit-learn, use `early_stopping_rounds` in constructor or`set_params` instead.\n",
      "  warnings.warn(\n",
      "\n"
     ]
    },
    {
     "name": "stdout",
     "output_type": "stream",
     "text": [
      "SCORE:                                                                           \n",
      "0.8627219293461795                                                               \n",
      " 30%|███       | 6/20 [00:04<00:09,  1.48trial/s, best loss: -0.8652669211658486]"
     ]
    },
    {
     "name": "stderr",
     "output_type": "stream",
     "text": [
      "c:\\Users\\pvdng\\AppData\\Local\\pypoetry\\Cache\\virtualenvs\\bank-churn-gvoUwqJd-py3.11\\Lib\\site-packages\\xgboost\\sklearn.py:889: UserWarning: `eval_metric` in `fit` method is deprecated for better compatibility with scikit-learn, use `eval_metric` in constructor or`set_params` instead.\n",
      "  warnings.warn(\n",
      "\n",
      "c:\\Users\\pvdng\\AppData\\Local\\pypoetry\\Cache\\virtualenvs\\bank-churn-gvoUwqJd-py3.11\\Lib\\site-packages\\xgboost\\sklearn.py:889: UserWarning: `early_stopping_rounds` in `fit` method is deprecated for better compatibility with scikit-learn, use `early_stopping_rounds` in constructor or`set_params` instead.\n",
      "  warnings.warn(\n",
      "\n"
     ]
    },
    {
     "name": "stdout",
     "output_type": "stream",
     "text": [
      "SCORE:                                                                           \n",
      "0.8563291522753439                                                               \n",
      " 35%|███▌      | 7/20 [00:05<00:09,  1.33trial/s, best loss: -0.8652669211658486]"
     ]
    },
    {
     "name": "stderr",
     "output_type": "stream",
     "text": [
      "c:\\Users\\pvdng\\AppData\\Local\\pypoetry\\Cache\\virtualenvs\\bank-churn-gvoUwqJd-py3.11\\Lib\\site-packages\\xgboost\\sklearn.py:889: UserWarning: `eval_metric` in `fit` method is deprecated for better compatibility with scikit-learn, use `eval_metric` in constructor or`set_params` instead.\n",
      "  warnings.warn(\n",
      "\n",
      "c:\\Users\\pvdng\\AppData\\Local\\pypoetry\\Cache\\virtualenvs\\bank-churn-gvoUwqJd-py3.11\\Lib\\site-packages\\xgboost\\sklearn.py:889: UserWarning: `early_stopping_rounds` in `fit` method is deprecated for better compatibility with scikit-learn, use `early_stopping_rounds` in constructor or`set_params` instead.\n",
      "  warnings.warn(\n",
      "\n"
     ]
    },
    {
     "name": "stdout",
     "output_type": "stream",
     "text": [
      "SCORE:                                                                           \n",
      "0.8591771193116403                                                               \n",
      " 40%|████      | 8/20 [00:05<00:09,  1.30trial/s, best loss: -0.8652669211658486]"
     ]
    },
    {
     "name": "stderr",
     "output_type": "stream",
     "text": [
      "c:\\Users\\pvdng\\AppData\\Local\\pypoetry\\Cache\\virtualenvs\\bank-churn-gvoUwqJd-py3.11\\Lib\\site-packages\\xgboost\\sklearn.py:889: UserWarning: `eval_metric` in `fit` method is deprecated for better compatibility with scikit-learn, use `eval_metric` in constructor or`set_params` instead.\n",
      "  warnings.warn(\n",
      "\n",
      "c:\\Users\\pvdng\\AppData\\Local\\pypoetry\\Cache\\virtualenvs\\bank-churn-gvoUwqJd-py3.11\\Lib\\site-packages\\xgboost\\sklearn.py:889: UserWarning: `early_stopping_rounds` in `fit` method is deprecated for better compatibility with scikit-learn, use `early_stopping_rounds` in constructor or`set_params` instead.\n",
      "  warnings.warn(\n",
      "\n"
     ]
    },
    {
     "name": "stdout",
     "output_type": "stream",
     "text": [
      "SCORE:                                                                           \n",
      "0.8647215657759195                                                               \n",
      " 45%|████▌     | 9/20 [00:06<00:09,  1.19trial/s, best loss: -0.8652669211658486]"
     ]
    },
    {
     "name": "stderr",
     "output_type": "stream",
     "text": [
      "c:\\Users\\pvdng\\AppData\\Local\\pypoetry\\Cache\\virtualenvs\\bank-churn-gvoUwqJd-py3.11\\Lib\\site-packages\\xgboost\\sklearn.py:889: UserWarning: `eval_metric` in `fit` method is deprecated for better compatibility with scikit-learn, use `eval_metric` in constructor or`set_params` instead.\n",
      "  warnings.warn(\n",
      "\n",
      "c:\\Users\\pvdng\\AppData\\Local\\pypoetry\\Cache\\virtualenvs\\bank-churn-gvoUwqJd-py3.11\\Lib\\site-packages\\xgboost\\sklearn.py:889: UserWarning: `early_stopping_rounds` in `fit` method is deprecated for better compatibility with scikit-learn, use `early_stopping_rounds` in constructor or`set_params` instead.\n",
      "  warnings.warn(\n",
      "\n"
     ]
    },
    {
     "name": "stdout",
     "output_type": "stream",
     "text": [
      "SCORE:                                                                           \n",
      "0.8646003756892686                                                               \n",
      " 50%|█████     | 10/20 [00:08<00:10,  1.00s/trial, best loss: -0.8652669211658486]"
     ]
    },
    {
     "name": "stderr",
     "output_type": "stream",
     "text": [
      "c:\\Users\\pvdng\\AppData\\Local\\pypoetry\\Cache\\virtualenvs\\bank-churn-gvoUwqJd-py3.11\\Lib\\site-packages\\xgboost\\sklearn.py:889: UserWarning: `eval_metric` in `fit` method is deprecated for better compatibility with scikit-learn, use `eval_metric` in constructor or`set_params` instead.\n",
      "  warnings.warn(\n",
      "\n",
      "c:\\Users\\pvdng\\AppData\\Local\\pypoetry\\Cache\\virtualenvs\\bank-churn-gvoUwqJd-py3.11\\Lib\\site-packages\\xgboost\\sklearn.py:889: UserWarning: `early_stopping_rounds` in `fit` method is deprecated for better compatibility with scikit-learn, use `early_stopping_rounds` in constructor or`set_params` instead.\n",
      "  warnings.warn(\n",
      "\n"
     ]
    },
    {
     "name": "stdout",
     "output_type": "stream",
     "text": [
      "SCORE:                                                                            \n",
      "0.861328243349694                                                                 \n",
      " 55%|█████▌    | 11/20 [00:09<00:08,  1.04trial/s, best loss: -0.8652669211658486]"
     ]
    },
    {
     "name": "stderr",
     "output_type": "stream",
     "text": [
      "c:\\Users\\pvdng\\AppData\\Local\\pypoetry\\Cache\\virtualenvs\\bank-churn-gvoUwqJd-py3.11\\Lib\\site-packages\\xgboost\\sklearn.py:889: UserWarning: `eval_metric` in `fit` method is deprecated for better compatibility with scikit-learn, use `eval_metric` in constructor or`set_params` instead.\n",
      "  warnings.warn(\n",
      "\n",
      "c:\\Users\\pvdng\\AppData\\Local\\pypoetry\\Cache\\virtualenvs\\bank-churn-gvoUwqJd-py3.11\\Lib\\site-packages\\xgboost\\sklearn.py:889: UserWarning: `early_stopping_rounds` in `fit` method is deprecated for better compatibility with scikit-learn, use `early_stopping_rounds` in constructor or`set_params` instead.\n",
      "  warnings.warn(\n",
      "\n"
     ]
    },
    {
     "name": "stdout",
     "output_type": "stream",
     "text": [
      "SCORE:                                                                            \n",
      "0.864115615342665                                                                 \n",
      " 60%|██████    | 12/20 [00:10<00:08,  1.02s/trial, best loss: -0.8652669211658486]"
     ]
    },
    {
     "name": "stderr",
     "output_type": "stream",
     "text": [
      "c:\\Users\\pvdng\\AppData\\Local\\pypoetry\\Cache\\virtualenvs\\bank-churn-gvoUwqJd-py3.11\\Lib\\site-packages\\xgboost\\sklearn.py:889: UserWarning: `eval_metric` in `fit` method is deprecated for better compatibility with scikit-learn, use `eval_metric` in constructor or`set_params` instead.\n",
      "  warnings.warn(\n",
      "\n",
      "c:\\Users\\pvdng\\AppData\\Local\\pypoetry\\Cache\\virtualenvs\\bank-churn-gvoUwqJd-py3.11\\Lib\\site-packages\\xgboost\\sklearn.py:889: UserWarning: `early_stopping_rounds` in `fit` method is deprecated for better compatibility with scikit-learn, use `early_stopping_rounds` in constructor or`set_params` instead.\n",
      "  warnings.warn(\n",
      "\n"
     ]
    },
    {
     "name": "stdout",
     "output_type": "stream",
     "text": [
      "SCORE:                                                                            \n",
      "0.8646912682542568                                                                \n",
      " 65%|██████▌   | 13/20 [00:11<00:07,  1.04s/trial, best loss: -0.8652669211658486]"
     ]
    },
    {
     "name": "stderr",
     "output_type": "stream",
     "text": [
      "c:\\Users\\pvdng\\AppData\\Local\\pypoetry\\Cache\\virtualenvs\\bank-churn-gvoUwqJd-py3.11\\Lib\\site-packages\\xgboost\\sklearn.py:889: UserWarning: `eval_metric` in `fit` method is deprecated for better compatibility with scikit-learn, use `eval_metric` in constructor or`set_params` instead.\n",
      "  warnings.warn(\n",
      "\n",
      "c:\\Users\\pvdng\\AppData\\Local\\pypoetry\\Cache\\virtualenvs\\bank-churn-gvoUwqJd-py3.11\\Lib\\site-packages\\xgboost\\sklearn.py:889: UserWarning: `early_stopping_rounds` in `fit` method is deprecated for better compatibility with scikit-learn, use `early_stopping_rounds` in constructor or`set_params` instead.\n",
      "  warnings.warn(\n",
      "\n"
     ]
    },
    {
     "name": "stdout",
     "output_type": "stream",
     "text": [
      "SCORE:                                                                            \n",
      "0.8642368054293159                                                                \n",
      " 70%|███████   | 14/20 [00:12<00:06,  1.01s/trial, best loss: -0.8652669211658486]"
     ]
    },
    {
     "name": "stderr",
     "output_type": "stream",
     "text": [
      "c:\\Users\\pvdng\\AppData\\Local\\pypoetry\\Cache\\virtualenvs\\bank-churn-gvoUwqJd-py3.11\\Lib\\site-packages\\xgboost\\sklearn.py:889: UserWarning: `eval_metric` in `fit` method is deprecated for better compatibility with scikit-learn, use `eval_metric` in constructor or`set_params` instead.\n",
      "  warnings.warn(\n",
      "\n",
      "c:\\Users\\pvdng\\AppData\\Local\\pypoetry\\Cache\\virtualenvs\\bank-churn-gvoUwqJd-py3.11\\Lib\\site-packages\\xgboost\\sklearn.py:889: UserWarning: `early_stopping_rounds` in `fit` method is deprecated for better compatibility with scikit-learn, use `early_stopping_rounds` in constructor or`set_params` instead.\n",
      "  warnings.warn(\n",
      "\n"
     ]
    },
    {
     "name": "stdout",
     "output_type": "stream",
     "text": [
      "SCORE:                                                                            \n",
      "0.8650851360358722                                                                \n",
      " 75%|███████▌  | 15/20 [00:13<00:05,  1.12s/trial, best loss: -0.8652669211658486]"
     ]
    },
    {
     "name": "stderr",
     "output_type": "stream",
     "text": [
      "c:\\Users\\pvdng\\AppData\\Local\\pypoetry\\Cache\\virtualenvs\\bank-churn-gvoUwqJd-py3.11\\Lib\\site-packages\\xgboost\\sklearn.py:889: UserWarning: `eval_metric` in `fit` method is deprecated for better compatibility with scikit-learn, use `eval_metric` in constructor or`set_params` instead.\n",
      "  warnings.warn(\n",
      "\n",
      "c:\\Users\\pvdng\\AppData\\Local\\pypoetry\\Cache\\virtualenvs\\bank-churn-gvoUwqJd-py3.11\\Lib\\site-packages\\xgboost\\sklearn.py:889: UserWarning: `early_stopping_rounds` in `fit` method is deprecated for better compatibility with scikit-learn, use `early_stopping_rounds` in constructor or`set_params` instead.\n",
      "  warnings.warn(\n",
      "\n"
     ]
    },
    {
     "name": "stdout",
     "output_type": "stream",
     "text": [
      "SCORE:                                                                            \n",
      "0.8655395988608132                                                                \n",
      " 80%|████████  | 16/20 [00:14<00:04,  1.07s/trial, best loss: -0.8655395988608132]"
     ]
    },
    {
     "name": "stderr",
     "output_type": "stream",
     "text": [
      "c:\\Users\\pvdng\\AppData\\Local\\pypoetry\\Cache\\virtualenvs\\bank-churn-gvoUwqJd-py3.11\\Lib\\site-packages\\xgboost\\sklearn.py:889: UserWarning: `eval_metric` in `fit` method is deprecated for better compatibility with scikit-learn, use `eval_metric` in constructor or`set_params` instead.\n",
      "  warnings.warn(\n",
      "\n",
      "c:\\Users\\pvdng\\AppData\\Local\\pypoetry\\Cache\\virtualenvs\\bank-churn-gvoUwqJd-py3.11\\Lib\\site-packages\\xgboost\\sklearn.py:889: UserWarning: `early_stopping_rounds` in `fit` method is deprecated for better compatibility with scikit-learn, use `early_stopping_rounds` in constructor or`set_params` instead.\n",
      "  warnings.warn(\n",
      "\n"
     ]
    },
    {
     "name": "stdout",
     "output_type": "stream",
     "text": [
      "SCORE:                                                                            \n",
      "0.860994970611404                                                                 \n",
      " 85%|████████▌ | 17/20 [00:15<00:03,  1.03s/trial, best loss: -0.8655395988608132]"
     ]
    },
    {
     "name": "stderr",
     "output_type": "stream",
     "text": [
      "c:\\Users\\pvdng\\AppData\\Local\\pypoetry\\Cache\\virtualenvs\\bank-churn-gvoUwqJd-py3.11\\Lib\\site-packages\\xgboost\\sklearn.py:889: UserWarning: `eval_metric` in `fit` method is deprecated for better compatibility with scikit-learn, use `eval_metric` in constructor or`set_params` instead.\n",
      "  warnings.warn(\n",
      "\n",
      "c:\\Users\\pvdng\\AppData\\Local\\pypoetry\\Cache\\virtualenvs\\bank-churn-gvoUwqJd-py3.11\\Lib\\site-packages\\xgboost\\sklearn.py:889: UserWarning: `early_stopping_rounds` in `fit` method is deprecated for better compatibility with scikit-learn, use `early_stopping_rounds` in constructor or`set_params` instead.\n",
      "  warnings.warn(\n",
      "\n"
     ]
    },
    {
     "name": "stdout",
     "output_type": "stream",
     "text": [
      "SCORE:                                                                            \n",
      "0.8613888383930195                                                                \n",
      " 90%|█████████ | 18/20 [00:16<00:01,  1.01trial/s, best loss: -0.8655395988608132]"
     ]
    },
    {
     "name": "stderr",
     "output_type": "stream",
     "text": [
      "c:\\Users\\pvdng\\AppData\\Local\\pypoetry\\Cache\\virtualenvs\\bank-churn-gvoUwqJd-py3.11\\Lib\\site-packages\\xgboost\\sklearn.py:889: UserWarning: `eval_metric` in `fit` method is deprecated for better compatibility with scikit-learn, use `eval_metric` in constructor or`set_params` instead.\n",
      "  warnings.warn(\n",
      "\n",
      "c:\\Users\\pvdng\\AppData\\Local\\pypoetry\\Cache\\virtualenvs\\bank-churn-gvoUwqJd-py3.11\\Lib\\site-packages\\xgboost\\sklearn.py:889: UserWarning: `early_stopping_rounds` in `fit` method is deprecated for better compatibility with scikit-learn, use `early_stopping_rounds` in constructor or`set_params` instead.\n",
      "  warnings.warn(\n",
      "\n"
     ]
    },
    {
     "name": "stdout",
     "output_type": "stream",
     "text": [
      "SCORE:                                                                            \n",
      "0.8650548385142095                                                                \n",
      " 95%|█████████▌| 19/20 [00:17<00:01,  1.10s/trial, best loss: -0.8655395988608132]"
     ]
    },
    {
     "name": "stderr",
     "output_type": "stream",
     "text": [
      "c:\\Users\\pvdng\\AppData\\Local\\pypoetry\\Cache\\virtualenvs\\bank-churn-gvoUwqJd-py3.11\\Lib\\site-packages\\xgboost\\sklearn.py:889: UserWarning: `eval_metric` in `fit` method is deprecated for better compatibility with scikit-learn, use `eval_metric` in constructor or`set_params` instead.\n",
      "  warnings.warn(\n",
      "\n",
      "c:\\Users\\pvdng\\AppData\\Local\\pypoetry\\Cache\\virtualenvs\\bank-churn-gvoUwqJd-py3.11\\Lib\\site-packages\\xgboost\\sklearn.py:889: UserWarning: `early_stopping_rounds` in `fit` method is deprecated for better compatibility with scikit-learn, use `early_stopping_rounds` in constructor or`set_params` instead.\n",
      "  warnings.warn(\n",
      "\n"
     ]
    },
    {
     "name": "stdout",
     "output_type": "stream",
     "text": [
      "SCORE:                                                                            \n",
      "0.864782160819245                                                                 \n",
      "100%|██████████| 20/20 [00:19<00:00,  1.04trial/s, best loss: -0.8655395988608132]\n"
     ]
    }
   ],
   "source": [
    "trials = Trials()\n",
    "\n",
    "best_hyperparams = fmin(fn = objective,\n",
    "                        space = space,\n",
    "                        algo = tpe.suggest,\n",
    "                        max_evals = 20,\n",
    "                        trials = trials)"
   ]
  },
  {
   "cell_type": "code",
   "execution_count": 134,
   "metadata": {},
   "outputs": [
    {
     "name": "stdout",
     "output_type": "stream",
     "text": [
      "The best hyperparameters are :  \n",
      "\n",
      "{'gamma': 3.4449286575210953, 'max_depth': 8.0}\n"
     ]
    }
   ],
   "source": [
    "print(\"The best hyperparameters are : \",\"\\n\")\n",
    "print(best_hyperparams)"
   ]
  },
  {
   "cell_type": "code",
   "execution_count": null,
   "metadata": {},
   "outputs": [],
   "source": []
  }
 ],
 "metadata": {
  "kernelspec": {
   "display_name": "bank-churn-gvoUwqJd-py3.11",
   "language": "python",
   "name": "python3"
  },
  "language_info": {
   "codemirror_mode": {
    "name": "ipython",
    "version": 3
   },
   "file_extension": ".py",
   "mimetype": "text/x-python",
   "name": "python",
   "nbconvert_exporter": "python",
   "pygments_lexer": "ipython3",
   "version": "3.11.5"
  }
 },
 "nbformat": 4,
 "nbformat_minor": 2
}
